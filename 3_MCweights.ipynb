{
 "cells": [
  {
   "cell_type": "markdown",
   "metadata": {},
   "source": [
    "# 2. Monte Carlo weighting"
   ]
  },
  {
   "cell_type": "markdown",
   "metadata": {},
   "source": [
    "Brief recap on:\n",
    "* cross section\n",
    "* luminosity"
   ]
  },
  {
   "cell_type": "markdown",
   "metadata": {},
   "source": [
    "## 2.1 Introduction"
   ]
  },
  {
   "cell_type": "markdown",
   "metadata": {},
   "source": [
    "Today we will understand how it works to make the MC simulation be in agreement with data.\n",
    "\n",
    "This problem presents to us because when simulating events it is not always possible to simulate them normalized to the processes cross section. This means that the number of MC events produced will be 'random' and related to the available computing power at the moment of production. \n",
    "\n",
    "For example, MC weights are needed first and foremost to normalize the MC sample to the luminosity of the data. Moreover, weights are computed to take into account the different scale factors that we use to improve the description of the data. \n",
    "\n",
    "Another example are some backgrounds which are never produced via MC simulation but always in a data driven way for two main reasons:\n",
    "* the process is extremely difficult to model\n",
    "* it has a huge cross section\n",
    "\n",
    "therefore, it would require a huge amount of computation power, which we do not have.\n",
    "\n",
    "This kind of procedure leads in the end to situations in which:\n",
    "* one event in MC may represents >50/100 events in data (if we do not have enough computation power to do a 1:1 production)\n",
    "* one event in MC represents a fraction of an event in data."
   ]
  },
  {
   "cell_type": "markdown",
   "metadata": {},
   "source": [
    "For example:\n",
    "\n",
    "The cross section of the electroweak production of a WW pair is $\\sigma \\approx 89$fb. \n",
    "\n",
    "Therefore at an integrated luminosity of $\\mathcal{L} = 59.7$fb$^{-1}$ we would expect a nuber of events $N_{exp} = \\sigma\\cdot\\mathcal{L} \\approx 5300$\n",
    "\n",
    "\n",
    "If in our MC simulation we have $N_{MC} = 23487$ signal events, therefore we will have to weight the MC events by a factor that will make the number of events equal to the expected one at LHC. The scale factor will be $w = N_{exp} / N_{MC} \\approx 0.22$\n",
    "\n",
    "Luckily for us this is already done at tree level and the branch called `weigth` contains not only this scale value we have to apply, but also a bunch of other weights related to different sources must be applied too. They are:\n",
    "\n",
    "| Branch name | Meaning |\n",
    "|---|---|\n",
    "| `XSWeight` | MC simulations normalization to 1 fb$^{-1}$ |\n",
    "| `puWeight` | equalizing the Pile-Up profile in MC to that one in data |\n",
    "| `TriggerEffWeight_2l` | trigger efficiency (function of the p$_{T}$ and $\\eta$ of the leptons |\n",
    "| `LepWPCut` | flag if first two leading leptons pass the electron/muon working points | \n",
    "| `Trigger_ElMu` | flag 1 for events passing the MuonEG dataset triggers |"
   ]
  },
  {
   "cell_type": "markdown",
   "metadata": {},
   "source": [
    "All of these weights have to be applied at the level of histograms filling and it is very important to make the histogram 'save' the weights! \n",
    "\n",
    "As you know from statistics, when you have to calculate the uncertainty on a number of events it makes a big difference if the events are the result of a counting experiment or if they are the result of a weighting procedure. In the first case the distribution is a Poissonian and the uncertainty is the square root of the number of entries (i.e. $\\sqrt{N}$). On the other hand when a histogram is the result of a sum and weighting procedure, the uncertainty on the number of entries is the sum in quadrature of all the weights (i.e. $\\sqrt{\\sum w^2}$). \n",
    "\n",
    "Therefore, it is very important for the histogram you create to save the weight corresponding to the entry you are filling it with. You do it like this:\n",
    "\n",
    "```python\n",
    "h = ROOT.TH1F(...)\n",
    "for ev in events:\n",
    "    tree.GetEntry(ev)\n",
    "    w = tree.<weight1> * tree.<weight2> * ...\n",
    "    h.Fill(tree.<variable>, w)\n",
    "```"
   ]
  },
  {
   "cell_type": "markdown",
   "metadata": {},
   "source": [
    "### 2.2 Exercise MC weighting"
   ]
  },
  {
   "cell_type": "code",
   "execution_count": 94,
   "metadata": {},
   "outputs": [
    {
     "data": {
      "text/html": [
       "<div>\n",
       "<style scoped>\n",
       "    .dataframe tbody tr th:only-of-type {\n",
       "        vertical-align: middle;\n",
       "    }\n",
       "\n",
       "    .dataframe tbody tr th {\n",
       "        vertical-align: top;\n",
       "    }\n",
       "\n",
       "    .dataframe thead th {\n",
       "        text-align: right;\n",
       "    }\n",
       "</style>\n",
       "<table border=\"1\" class=\"dataframe\">\n",
       "  <thead>\n",
       "    <tr style=\"text-align: right;\">\n",
       "      <th></th>\n",
       "      <th>mjj</th>\n",
       "      <th>pt_1j</th>\n",
       "      <th>pt_2j</th>\n",
       "      <th>eta_1j</th>\n",
       "      <th>ptll</th>\n",
       "      <th>eta_1l</th>\n",
       "      <th>Zepp_ll</th>\n",
       "      <th>weight</th>\n",
       "    </tr>\n",
       "  </thead>\n",
       "  <tbody>\n",
       "    <tr>\n",
       "      <th>0</th>\n",
       "      <td>184.278137</td>\n",
       "      <td>47.714859</td>\n",
       "      <td>46.298988</td>\n",
       "      <td>-0.074081</td>\n",
       "      <td>72.781059</td>\n",
       "      <td>0.226471</td>\n",
       "      <td>1.297249</td>\n",
       "      <td>0.008133</td>\n",
       "    </tr>\n",
       "    <tr>\n",
       "      <th>1</th>\n",
       "      <td>475.591492</td>\n",
       "      <td>309.644379</td>\n",
       "      <td>46.271046</td>\n",
       "      <td>-1.710449</td>\n",
       "      <td>16.897715</td>\n",
       "      <td>0.466858</td>\n",
       "      <td>1.621552</td>\n",
       "      <td>0.004084</td>\n",
       "    </tr>\n",
       "    <tr>\n",
       "      <th>2</th>\n",
       "      <td>567.185242</td>\n",
       "      <td>39.650753</td>\n",
       "      <td>38.150513</td>\n",
       "      <td>-1.495361</td>\n",
       "      <td>74.595718</td>\n",
       "      <td>-1.973877</td>\n",
       "      <td>1.511230</td>\n",
       "      <td>0.005516</td>\n",
       "    </tr>\n",
       "    <tr>\n",
       "      <th>3</th>\n",
       "      <td>389.621674</td>\n",
       "      <td>109.280838</td>\n",
       "      <td>67.491768</td>\n",
       "      <td>-3.372559</td>\n",
       "      <td>30.638733</td>\n",
       "      <td>0.817017</td>\n",
       "      <td>3.056244</td>\n",
       "      <td>0.003804</td>\n",
       "    </tr>\n",
       "    <tr>\n",
       "      <th>4</th>\n",
       "      <td>372.220978</td>\n",
       "      <td>180.758087</td>\n",
       "      <td>124.455849</td>\n",
       "      <td>0.430359</td>\n",
       "      <td>36.703983</td>\n",
       "      <td>2.408691</td>\n",
       "      <td>1.227692</td>\n",
       "      <td>0.004426</td>\n",
       "    </tr>\n",
       "  </tbody>\n",
       "</table>\n",
       "</div>"
      ],
      "text/plain": [
       "          mjj       pt_1j       pt_2j    eta_1j       ptll    eta_1l  \\\n",
       "0  184.278137   47.714859   46.298988 -0.074081  72.781059  0.226471   \n",
       "1  475.591492  309.644379   46.271046 -1.710449  16.897715  0.466858   \n",
       "2  567.185242   39.650753   38.150513 -1.495361  74.595718 -1.973877   \n",
       "3  389.621674  109.280838   67.491768 -3.372559  30.638733  0.817017   \n",
       "4  372.220978  180.758087  124.455849  0.430359  36.703983  2.408691   \n",
       "\n",
       "    Zepp_ll    weight  \n",
       "0  1.297249  0.008133  \n",
       "1  1.621552  0.004084  \n",
       "2  1.511230  0.005516  \n",
       "3  3.056244  0.003804  \n",
       "4  1.227692  0.004426  "
      ]
     },
     "execution_count": 94,
     "metadata": {},
     "output_type": "execute_result"
    }
   ],
   "source": [
    "import uproot\n",
    "\n",
    "filename  = \"tree_complete.root\"\n",
    "name_tree = \"sr_highZ/VBS_OS/tree_WWewk\"\n",
    "branches  = ['mjj','pt_1j','pt_2j','eta_1j','ptll','eta_1l','Zepp_ll','weight']\n",
    "\n",
    "tree_signal = uproot.open(filename)[name_tree] # tree definition\n",
    "signal_df   = tree_signal.arrays(branches, library='pd') # dataframe (df) definition\n",
    "\n",
    "signal_df.head()"
   ]
  },
  {
   "cell_type": "code",
   "execution_count": 95,
   "metadata": {},
   "outputs": [
    {
     "name": "stderr",
     "output_type": "stream",
     "text": [
      "Warning in <TCanvas::Constructor>: Deleting canvas with same name: c1\n",
      "Warning in <TROOT::Append>: Replacing existing TH1: h1 (Potential memory leak).\n",
      "Warning in <TROOT::Append>: Replacing existing TH1: h1 - weighted (Potential memory leak).\n"
     ]
    },
    {
     "data": {
      "image/png": "[encoded data removed]",
      "text/plain": [
       "<IPython.core.display.Image object>"
      ]
     },
     "metadata": {},
     "output_type": "display_data"
    }
   ],
   "source": [
    "import ROOT\n",
    "\n",
    "# Create a canvas\n",
    "c1 = ROOT.TCanvas('c1', 'pt_1j - Pandas DataFrame', 600, 400)\n",
    "\n",
    "# Create a histogram and draw it\n",
    "h1 = ROOT.TH1F('h1', ';pt_{1j}; N_{Events}', 100, 0, 1000)\n",
    "h2 = ROOT.TH1F('h1 - weighted', ';pt_{1j}; N_{Events}', 100, 0, 1000)\n",
    "for event in signal_df.index:\n",
    "        h1.Fill(signal_df.pt_1j[event])\n",
    "        h2.Fill(signal_df.pt_1j[event], signal_df.weight[event])\n",
    "        \n",
    "h1.Scale(1/h1.Integral()) # histogram normalization\n",
    "h2.Scale(1/h2.Integral())\n",
    "\n",
    "h1.Draw('HIST')\n",
    "h2.Draw('SAME HIST')\n",
    "    \n",
    "# Let's add some CMS style headline\n",
    "label = ROOT.TLatex()\n",
    "label.SetNDC(True)\n",
    "label.SetTextSize(0.040)\n",
    "label.DrawLatex(0.10, 0.92, '#bf{CMS preliminary}')\n",
    "label.DrawLatex(0.48, 0.92, '#bf{#sqrt{s} = 13 TeV, L_{int} = 59.7 fb^{-1}}')\n",
    "\n",
    "# show interactively\n",
    "c1.Draw()"
   ]
  },
  {
   "cell_type": "markdown",
   "metadata": {},
   "source": [
    "### 2.3 To do"
   ]
  },
  {
   "cell_type": "markdown",
   "metadata": {},
   "source": [
    "Apply the weights to the histograms you created for this time. You can use the same code and just modify it to account for all the weights. \n",
    "\n",
    "I would suggest you create a duplicate of the script you have, so you can have both the weighted ad the non-weighted cases for when you will have to write the report. (Putting this part in the report I think is good to show that you are undesrtanding how an analysis proceeds).\n",
    "\n",
    "Fit some distributions with a proper function."
   ]
  }
 ],
 "metadata": {
  "kernelspec": {
   "display_name": "testenv",
   "language": "python",
   "name": "testenv"
  },
  "language_info": {
   "codemirror_mode": {
    "name": "ipython",
    "version": 3
   },
   "file_extension": ".py",
   "mimetype": "text/x-python",
   "name": "python",
   "nbconvert_exporter": "python",
   "pygments_lexer": "ipython3",
   "version": "3.8.13"
  }
 },
 "nbformat": 4,
 "nbformat_minor": 2
}
