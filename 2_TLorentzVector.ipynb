{
 "cells": [
  {
   "cell_type": "markdown",
   "metadata": {},
   "source": [
    "# 2. `TLorentzVector` "
   ]
  },
  {
   "cell_type": "code",
   "execution_count": 34,
   "metadata": {},
   "outputs": [],
   "source": [
    "import ROOT\n",
    "import numpy as np\n",
    "import pandas as pd"
   ]
  },
  {
   "cell_type": "markdown",
   "metadata": {},
   "source": [
    "## Introduction"
   ]
  },
  {
   "cell_type": "markdown",
   "metadata": {},
   "source": [
    "A very useful feature of `ROOT` is the possibility to define relativistic four-vectors. This can be done using the `TLorentzVector` class. The functions of this class allow the initialization and handling of the vector and its properties. Lets see how it works."
   ]
  },
  {
   "cell_type": "code",
   "execution_count": 2,
   "metadata": {},
   "outputs": [],
   "source": [
    "Mtau = 1.777 #GeV \n",
    "\n",
    "# define a TLrentzVector\n",
    "vect1 = ROOT.TLorentzVector()\n",
    "# fill it we the information we have (Pt,eta,phi,mass)\n",
    "vect1.SetPtEtaPhiM(30,1.5,np.pi/2,Mtau)"
   ]
  },
  {
   "cell_type": "markdown",
   "metadata": {},
   "source": [
    "Now that we have set the vector we can compute the stuff we might need. For example we could need the mass x, y, z projections of the momentum of the particle, or its energy:"
   ]
  },
  {
   "cell_type": "code",
   "execution_count": 3,
   "metadata": {},
   "outputs": [
    {
     "name": "stdout",
     "output_type": "stream",
     "text": [
      "P = 70.57228845729742 ; Px = 1.83697019872103e-15 ; Py = 30.0 ; Pz = 63.87838365284452\n",
      "E = 70.59465721355967\n"
     ]
    }
   ],
   "source": [
    "print('P =', vect1.P(), '; Px =', vect1.Px(), '; Py =', vect1.Py(), '; Pz =', vect1.Pz())\n",
    "print('E =', vect1.E())"
   ]
  },
  {
   "cell_type": "markdown",
   "metadata": {},
   "source": [
    "Now suppose we want to reconstruct a particle decaying in two $\\tau$ leptons. Then we would have a second vector for the second $\\tau$ lepton:"
   ]
  },
  {
   "cell_type": "code",
   "execution_count": 33,
   "metadata": {},
   "outputs": [],
   "source": [
    "vect2 = ROOT.TLorentzVector()\n",
    "vect2.SetPtEtaPhiE(50,-1.5,-np.pi/2,70.595) #energy [GeV]"
   ]
  },
  {
   "cell_type": "markdown",
   "metadata": {},
   "source": [
    "Then the two vectors of the reconstructed tau leptons should be added together to form the four-vector of the particle we are trying to reconstruct:"
   ]
  },
  {
   "cell_type": "code",
   "execution_count": 5,
   "metadata": {},
   "outputs": [],
   "source": [
    "# vect contains all the information about the mother particle\n",
    "vect = vect1 + vect2"
   ]
  },
  {
   "cell_type": "markdown",
   "metadata": {},
   "source": [
    "Let's see what are we reconstructing:"
   ]
  },
  {
   "cell_type": "code",
   "execution_count": 6,
   "metadata": {},
   "outputs": [
    {
     "name": "stdout",
     "output_type": "stream",
     "text": [
      "E = 141.18965721355966 ; M = 133.1201972088643\n"
     ]
    }
   ],
   "source": [
    "print('E =', vect.E(), '; M =', vect.M())"
   ]
  },
  {
   "cell_type": "markdown",
   "metadata": {},
   "source": [
    "QUESTION: Given the angular configuration of the two  𝜏  leptons that we have defined, and given the E and M of the particle they come from, what can we say about it? How was it produced?"
   ]
  },
  {
   "cell_type": "markdown",
   "metadata": {},
   "source": [
    "# 2.1 W-boson invariant mass"
   ]
  },
  {
   "cell_type": "markdown",
   "metadata": {},
   "source": [
    "### 2.1.1 Different Flavour leptons"
   ]
  },
  {
   "cell_type": "markdown",
   "metadata": {},
   "source": [
    "In this section we use what we have leart until now to calculate the invariant mass of the Z boson. We will make the calculation for each event and then we plot it in a `ROOT histogram`.\n",
    "\n",
    "Let's consider the Drell-Yan process, in which the two intercting quarks produce a Z boson or a photon. This particle will decay in two same flavour leptons of opposite charge, or more precisely: in the final state we observe two different flavour particles, like a muon and a positron.\n",
    "\n",
    "In the following events the kinematic data of these two particles are reported. Some cuts have been already applied."
   ]
  },
  {
   "cell_type": "code",
   "execution_count": 7,
   "metadata": {},
   "outputs": [
    {
     "data": {
      "image/png": "[encoded data removed]",
      "text/plain": [
       "<IPython.core.display.Image object>"
      ]
     },
     "execution_count": 7,
     "metadata": {},
     "output_type": "execute_result"
    }
   ],
   "source": [
    "from IPython.display import Image\n",
    "Image(filename='DY.png') "
   ]
  },
  {
   "cell_type": "markdown",
   "metadata": {},
   "source": [
    "In this exercise we want to calcuate the invariant mass of the particle which is decayed in our two different flavour particles. Let first open the following file `plots_paper_2018.root` and cosider the Drell-Yan events contained in the `dycr/VBS_OS` folder."
   ]
  },
  {
   "cell_type": "code",
   "execution_count": 8,
   "metadata": {
    "scrolled": false
   },
   "outputs": [
    {
     "name": "stdout",
     "output_type": "stream",
     "text": [
      "Collection name='THashList', class='THashList', size=5\n",
      " TKey Name = tree_DATA, Title = tree_DATA, Cycle = 1\n",
      " TKey Name = tree_DY, Title = tree_DY, Cycle = 1\n",
      " TKey Name = tree_WW, Title = tree_WW, Cycle = 1\n",
      " TKey Name = tree_WWewk, Title = tree_WWewk, Cycle = 1\n",
      " TKey Name = tree_top, Title = tree_top, Cycle = 1\n"
     ]
    }
   ],
   "source": [
    "rfile = ROOT.TFile.Open('/home/llr/cms/mchiusi/TREX-PHY584/DY_different_flavor.root')\n",
    "rfolder = rfile.Get(\"dycr/VBS_OS\")\n",
    "rfolder.GetListOfKeys().Print()"
   ]
  },
  {
   "cell_type": "code",
   "execution_count": 9,
   "metadata": {
    "scrolled": true
   },
   "outputs": [
    {
     "name": "stdout",
     "output_type": "stream",
     "text": [
      "******************************************************************************\n",
      "*Tree    :tree_DY   : tree_DY                                                *\n",
      "*Entries :    73196 : Total =        12380432 bytes  File  Size =    5885735 *\n",
      "*        :          : Tree compression factor =   2.10                       *\n",
      "******************************************************************************\n",
      "*Br    0 :weight    : weight/D                                               *\n",
      "*Entries :    73196 : Total  Size=     589533 bytes  File Size  =     400337 *\n",
      "*Baskets :       38 : Basket Size=      32000 bytes  Compression=   1.47     *\n",
      "*............................................................................*\n",
      "*Br    1 :PuppiMET_pt : PuppiMET_pt/D                                        *\n",
      "*Entries :    73196 : Total  Size=     589743 bytes  File Size  =     324645 *\n",
      "*Baskets :       38 : Basket Size=      32000 bytes  Compression=   1.81     *\n",
      "*............................................................................*\n",
      "*Br    2 :Zepp_1l   : Zepp_1l/D                                              *\n",
      "*Entries :    73196 : Total  Size=     589575 bytes  File Size  =     283063 *\n",
      "*Baskets :       38 : Basket Size=      32000 bytes  Compression=   2.08     *\n",
      "*............................................................................*\n",
      "*Br    3 :Zepp_2l   : Zepp_2l/D                                              *\n",
      "*Entries :    73196 : Total  Size=     589575 bytes  File Size  =     282945 *\n",
      "*Baskets :       38 : Basket Size=      32000 bytes  Compression=   2.08     *\n",
      "*............................................................................*\n",
      "*Br    4 :Zepp_ll   : Zepp_ll/D                                              *\n",
      "*Entries :    73196 : Total  Size=     589575 bytes  File Size  =     275999 *\n",
      "*Baskets :       38 : Basket Size=      32000 bytes  Compression=   2.13     *\n",
      "*............................................................................*\n",
      "*Br    5 :detajj    : detajj/D                                               *\n",
      "*Entries :    73196 : Total  Size=     589533 bytes  File Size  =     262573 *\n",
      "*Baskets :       38 : Basket Size=      32000 bytes  Compression=   2.24     *\n",
      "*............................................................................*\n",
      "*Br    6 :dphill    : dphill/D                                               *\n",
      "*Entries :    73196 : Total  Size=     589533 bytes  File Size  =     265156 *\n",
      "*Baskets :       38 : Basket Size=      32000 bytes  Compression=   2.22     *\n",
      "*............................................................................*\n",
      "*Br    7 :eta_1j    : eta_1j/D                                               *\n",
      "*Entries :    73196 : Total  Size=     589533 bytes  File Size  =     234948 *\n",
      "*Baskets :       38 : Basket Size=      32000 bytes  Compression=   2.50     *\n",
      "*............................................................................*\n",
      "*Br    8 :eta_1l    : eta_1l/D                                               *\n",
      "*Entries :    73196 : Total  Size=     589533 bytes  File Size  =     227869 *\n",
      "*Baskets :       38 : Basket Size=      32000 bytes  Compression=   2.58     *\n",
      "*............................................................................*\n",
      "*Br    9 :eta_2j    : eta_2j/D                                               *\n",
      "*Entries :    73196 : Total  Size=     589533 bytes  File Size  =     236815 *\n",
      "*Baskets :       38 : Basket Size=      32000 bytes  Compression=   2.48     *\n",
      "*............................................................................*\n",
      "*Br   10 :eta_2l    : eta_2l/D                                               *\n",
      "*Entries :    73196 : Total  Size=     589533 bytes  File Size  =     227481 *\n",
      "*Baskets :       38 : Basket Size=      32000 bytes  Compression=   2.59     *\n",
      "*............................................................................*\n",
      "*Br   11 :eta_3j    : eta_3j/D                                               *\n",
      "*Entries :    73196 : Total  Size=     589533 bytes  File Size  =     236142 *\n",
      "*Baskets :       38 : Basket Size=      32000 bytes  Compression=   2.49     *\n",
      "*............................................................................*\n",
      "*Br   12 :mjj       : mjj/D                                                  *\n",
      "*Entries :    73196 : Total  Size=     589407 bytes  File Size  =     327345 *\n",
      "*Baskets :       38 : Basket Size=      32000 bytes  Compression=   1.80     *\n",
      "*............................................................................*\n",
      "*Br   13 :mll       : mll/D                                                  *\n",
      "*Entries :    73196 : Total  Size=     589407 bytes  File Size  =     317778 *\n",
      "*Baskets :       38 : Basket Size=      32000 bytes  Compression=   1.85     *\n",
      "*............................................................................*\n",
      "*Br   14 :njet30    : njet30/D                                               *\n",
      "*Entries :    73196 : Total  Size=     589533 bytes  File Size  =      43950 *\n",
      "*Baskets :       38 : Basket Size=      32000 bytes  Compression=  13.39     *\n",
      "*............................................................................*\n",
      "*Br   15 :pt_1j     : pt_1j/D                                                *\n",
      "*Entries :    73196 : Total  Size=     589491 bytes  File Size  =     324305 *\n",
      "*Baskets :       38 : Basket Size=      32000 bytes  Compression=   1.81     *\n",
      "*............................................................................*\n",
      "*Br   16 :pt_1l     : pt_1l/D                                                *\n",
      "*Entries :    73196 : Total  Size=     589491 bytes  File Size  =     321750 *\n",
      "*Baskets :       38 : Basket Size=      32000 bytes  Compression=   1.83     *\n",
      "*............................................................................*\n",
      "*Br   17 :pt_2j     : pt_2j/D                                                *\n",
      "*Entries :    73196 : Total  Size=     589491 bytes  File Size  =     317740 *\n",
      "*Baskets :       38 : Basket Size=      32000 bytes  Compression=   1.85     *\n",
      "*............................................................................*\n",
      "*Br   18 :pt_2l     : pt_2l/D                                                *\n",
      "*Entries :    73196 : Total  Size=     589491 bytes  File Size  =     321517 *\n",
      "*Baskets :       38 : Basket Size=      32000 bytes  Compression=   1.83     *\n",
      "*............................................................................*\n",
      "*Br   19 :pt_3j     : pt_3j/D                                                *\n",
      "*Entries :    73196 : Total  Size=     589491 bytes  File Size  =     319634 *\n",
      "*Baskets :       38 : Basket Size=      32000 bytes  Compression=   1.84     *\n",
      "*............................................................................*\n",
      "*Br   20 :ptll      : ptll/D                                                 *\n",
      "*Entries :    73196 : Total  Size=     589449 bytes  File Size  =     326875 *\n",
      "*Baskets :       38 : Basket Size=      32000 bytes  Compression=   1.80     *\n",
      "*............................................................................*\n"
     ]
    }
   ],
   "source": [
    "tree = rfolder.Get('tree_DY')\n",
    "tree.Print()"
   ]
  },
  {
   "cell_type": "markdown",
   "metadata": {},
   "source": [
    "Now we start looking at the Drell-Yan events, defining some `TLorentzVector`"
   ]
  },
  {
   "cell_type": "markdown",
   "metadata": {},
   "source": [
    "We can assume that the first lepton is emetted at $\\phi_{l1}$ = 0 and the other one at $\\phi_{l2}$ = $\\Delta\\phi_{ll}$: our detector is symmetric in $\\phi$ angle!"
   ]
  },
  {
   "cell_type": "code",
   "execution_count": 30,
   "metadata": {},
   "outputs": [
    {
     "data": {
      "text/html": [
       "<div>\n",
       "<style scoped>\n",
       "    .dataframe tbody tr th:only-of-type {\n",
       "        vertical-align: middle;\n",
       "    }\n",
       "\n",
       "    .dataframe tbody tr th {\n",
       "        vertical-align: top;\n",
       "    }\n",
       "\n",
       "    .dataframe thead th {\n",
       "        text-align: right;\n",
       "    }\n",
       "</style>\n",
       "<table border=\"1\" class=\"dataframe\">\n",
       "  <thead>\n",
       "    <tr style=\"text-align: right;\">\n",
       "      <th></th>\n",
       "      <th>pt_1l</th>\n",
       "      <th>eta_1l</th>\n",
       "      <th>pt_2l</th>\n",
       "      <th>eta_2l</th>\n",
       "      <th>dphill</th>\n",
       "    </tr>\n",
       "  </thead>\n",
       "  <tbody>\n",
       "    <tr>\n",
       "      <th>0</th>\n",
       "      <td>79.034126</td>\n",
       "      <td>0.991089</td>\n",
       "      <td>34.371510</td>\n",
       "      <td>-0.460876</td>\n",
       "      <td>3.112396</td>\n",
       "    </tr>\n",
       "    <tr>\n",
       "      <th>1</th>\n",
       "      <td>43.201500</td>\n",
       "      <td>0.028946</td>\n",
       "      <td>14.399381</td>\n",
       "      <td>-0.559448</td>\n",
       "      <td>2.684552</td>\n",
       "    </tr>\n",
       "    <tr>\n",
       "      <th>2</th>\n",
       "      <td>83.379280</td>\n",
       "      <td>1.703125</td>\n",
       "      <td>16.678337</td>\n",
       "      <td>0.793823</td>\n",
       "      <td>1.076904</td>\n",
       "    </tr>\n",
       "    <tr>\n",
       "      <th>3</th>\n",
       "      <td>50.626842</td>\n",
       "      <td>1.446533</td>\n",
       "      <td>27.192501</td>\n",
       "      <td>2.163086</td>\n",
       "      <td>2.151833</td>\n",
       "    </tr>\n",
       "    <tr>\n",
       "      <th>4</th>\n",
       "      <td>36.009739</td>\n",
       "      <td>0.050102</td>\n",
       "      <td>28.557533</td>\n",
       "      <td>1.376221</td>\n",
       "      <td>1.144653</td>\n",
       "    </tr>\n",
       "  </tbody>\n",
       "</table>\n",
       "</div>"
      ],
      "text/plain": [
       "       pt_1l    eta_1l      pt_2l    eta_2l    dphill\n",
       "0  79.034126  0.991089  34.371510 -0.460876  3.112396\n",
       "1  43.201500  0.028946  14.399381 -0.559448  2.684552\n",
       "2  83.379280  1.703125  16.678337  0.793823  1.076904\n",
       "3  50.626842  1.446533  27.192501  2.163086  2.151833\n",
       "4  36.009739  0.050102  28.557533  1.376221  1.144653"
      ]
     },
     "execution_count": 30,
     "metadata": {},
     "output_type": "execute_result"
    }
   ],
   "source": [
    "import uproot\n",
    "\n",
    "filename  = \"/home/llr/cms/mchiusi/TREX-PHY584/DY_different_flavor.root\"\n",
    "name_tree = \"dycr/VBS_OS/tree_DY\"\n",
    "branches  = ['pt_1l','eta_1l','pt_2l','eta_2l','dphill']\n",
    "\n",
    "tree_dycr = uproot.open(filename)[name_tree] # tree definition\n",
    "dycr_df   = tree_dycr.arrays(branches, library='pd') # dataframe (df) definition\n",
    "\n",
    "dycr_df.head()"
   ]
  },
  {
   "cell_type": "code",
   "execution_count": 31,
   "metadata": {},
   "outputs": [],
   "source": [
    "vect_l1 = ROOT.TLorentzVector()\n",
    "vect_l2 = ROOT.TLorentzVector()\n",
    "vect    = ROOT.TLorentzVector()\n",
    "\n",
    "mass_df = []\n",
    "\n",
    "for event_number in dycr_df.index:\n",
    "    event = dycr_df.loc[event_number]\n",
    "    \n",
    "    #defining the 4-vector (lepton mass = 0)\n",
    "    vect_l1.SetPtEtaPhiM(event.pt_1l, event.eta_1l, 0, 0)\n",
    "    vect_l2.SetPtEtaPhiM(event.pt_2l, event.eta_2l, event.dphill, 0)\n",
    "    \n",
    "    vect = vect_l1 + vect_l2\n",
    "    mass_df.append(vect.M())"
   ]
  },
  {
   "cell_type": "code",
   "execution_count": 32,
   "metadata": {},
   "outputs": [
    {
     "name": "stderr",
     "output_type": "stream",
     "text": [
      "Warning in <TCanvas::Constructor>: Deleting canvas with same name: c\n"
     ]
    },
    {
     "data": {
      "image/png": "[encoded data removed]",
      "text/plain": [
       "<IPython.core.display.Image object>"
      ]
     },
     "metadata": {},
     "output_type": "display_data"
    }
   ],
   "source": [
    "# Create a canvas\n",
    "c = ROOT.TCanvas('c', 'Z boson mass - DF sample', 600, 400)\n",
    "\n",
    "# Create a histogram and draw it\n",
    "h1 = ROOT.TH1F('Results different flavour', ';Z boson mass [GEV]; N_{Events}', 50, 45, 120)\n",
    "for mass_value in mass_df:\n",
    "        h1.Fill(mass_value)\n",
    "h1.Draw()\n",
    "\n",
    "label = ROOT.TLatex()\n",
    "label.SetNDC(True)\n",
    "label.SetTextSize(0.040)\n",
    "label.DrawLatex(0.10, 0.92, '#bf{CMS preliminary}')\n",
    "# show interactively\n",
    "c.Draw()"
   ]
  },
  {
   "cell_type": "markdown",
   "metadata": {},
   "source": [
    "Why don't we see any peak in this case?\n",
    "Try to understand how the Drell-Yan process works and why is consider a background for the VBS process.\n",
    "\n",
    "Hint: the two leptons emetted from the Z decay have to be of the same flavour, but.."
   ]
  },
  {
   "cell_type": "markdown",
   "metadata": {},
   "source": [
    "# 2.2 To do"
   ]
  },
  {
   "cell_type": "markdown",
   "metadata": {},
   "source": [
    "### 2.2.1 Same Flavour leptons"
   ]
  },
  {
   "cell_type": "markdown",
   "metadata": {},
   "source": [
    "What happens if we consider the so-called same flavour (SF) sample?\n",
    "Let's re-do the calculation shortly:"
   ]
  },
  {
   "cell_type": "code",
   "execution_count": 24,
   "metadata": {},
   "outputs": [
    {
     "name": "stdout",
     "output_type": "stream",
     "text": [
      "Opening TTree: DY_2j_ee_highDetajj/VBS_OS/tree_DY_hardJets;1\n",
      "Opening TTree: DY_2j_mm_highDetajj/VBS_OS/tree_DY_hardJets;1\n",
      "Opening TTree: DY_2j_ee_lowDetajj/VBS_OS/tree_DY_hardJets;1\n",
      "Opening TTree: DY_2j_mm_lowDetajj/VBS_OS/tree_DY_hardJets;1\n"
     ]
    }
   ],
   "source": [
    "import uproot\n",
    "\n",
    "file  = uproot.open(\"/home/llr/cms/mchiusi/TREX-PHY584/DY_same_flavor.root\")\n",
    "branches  = ['pt_1l','eta_1l','pt_2l','eta_2l','dphill']\n",
    "\n",
    "df_list = []\n",
    "for name_tree in file.keys(filter_name = \"*hardJets*\"):\n",
    "    print(\"Opening TTree: \" + name_tree)\n",
    "    tree_sf   = file[name_tree] # tree definition\n",
    "    temp_df   = tree_sf.arrays(branches, library='pd') # dataframe (df) definition\n",
    "    df_list.append(temp_df) # list of dataframes \n",
    "\n",
    "dycr_sf = pd.DataFrame()    \n",
    "dycr_sf = pd.concat(df_list, ignore_index=True) # merged dataframe"
   ]
  },
  {
   "cell_type": "code",
   "execution_count": 26,
   "metadata": {},
   "outputs": [
    {
     "data": {
      "text/html": [
       "<div>\n",
       "<style scoped>\n",
       "    .dataframe tbody tr th:only-of-type {\n",
       "        vertical-align: middle;\n",
       "    }\n",
       "\n",
       "    .dataframe tbody tr th {\n",
       "        vertical-align: top;\n",
       "    }\n",
       "\n",
       "    .dataframe thead th {\n",
       "        text-align: right;\n",
       "    }\n",
       "</style>\n",
       "<table border=\"1\" class=\"dataframe\">\n",
       "  <thead>\n",
       "    <tr style=\"text-align: right;\">\n",
       "      <th></th>\n",
       "      <th>pt_1l</th>\n",
       "      <th>eta_1l</th>\n",
       "      <th>pt_2l</th>\n",
       "      <th>eta_2l</th>\n",
       "      <th>dphill</th>\n",
       "    </tr>\n",
       "  </thead>\n",
       "  <tbody>\n",
       "    <tr>\n",
       "      <th>0</th>\n",
       "      <td>73.086128</td>\n",
       "      <td>0.738525</td>\n",
       "      <td>23.847759</td>\n",
       "      <td>-0.103638</td>\n",
       "      <td>2.560303</td>\n",
       "    </tr>\n",
       "    <tr>\n",
       "      <th>1</th>\n",
       "      <td>110.381660</td>\n",
       "      <td>-1.094727</td>\n",
       "      <td>57.090324</td>\n",
       "      <td>-2.083984</td>\n",
       "      <td>0.446045</td>\n",
       "    </tr>\n",
       "    <tr>\n",
       "      <th>2</th>\n",
       "      <td>57.288181</td>\n",
       "      <td>-2.015625</td>\n",
       "      <td>44.539574</td>\n",
       "      <td>-1.795410</td>\n",
       "      <td>2.169983</td>\n",
       "    </tr>\n",
       "    <tr>\n",
       "      <th>3</th>\n",
       "      <td>192.232407</td>\n",
       "      <td>0.583130</td>\n",
       "      <td>47.670444</td>\n",
       "      <td>0.344238</td>\n",
       "      <td>0.988263</td>\n",
       "    </tr>\n",
       "    <tr>\n",
       "      <th>4</th>\n",
       "      <td>69.793480</td>\n",
       "      <td>0.347900</td>\n",
       "      <td>26.775560</td>\n",
       "      <td>1.298584</td>\n",
       "      <td>2.272888</td>\n",
       "    </tr>\n",
       "  </tbody>\n",
       "</table>\n",
       "</div>"
      ],
      "text/plain": [
       "        pt_1l    eta_1l      pt_2l    eta_2l    dphill\n",
       "0   73.086128  0.738525  23.847759 -0.103638  2.560303\n",
       "1  110.381660 -1.094727  57.090324 -2.083984  0.446045\n",
       "2   57.288181 -2.015625  44.539574 -1.795410  2.169983\n",
       "3  192.232407  0.583130  47.670444  0.344238  0.988263\n",
       "4   69.793480  0.347900  26.775560  1.298584  2.272888"
      ]
     },
     "execution_count": 26,
     "metadata": {},
     "output_type": "execute_result"
    }
   ],
   "source": [
    "dycr_sf.head()"
   ]
  },
  {
   "cell_type": "code",
   "execution_count": 27,
   "metadata": {},
   "outputs": [],
   "source": [
    "vect_l1 = ROOT.TLorentzVector()\n",
    "vect_l2 = ROOT.TLorentzVector()\n",
    "\n",
    "mass_sf = []\n",
    "\n",
    "for event_number in dycr_sf.index:\n",
    "    event = dycr_sf.loc[event_number]\n",
    "    vect_l1.SetPtEtaPhiM(event.pt_1l, event.eta_1l, 0, 2)\n",
    "    vect_l2.SetPtEtaPhiM(event.pt_2l, event.eta_2l, event.dphill, 2)\n",
    "    \n",
    "    mass_sf.append((vect_l1 + vect_l2).M())"
   ]
  },
  {
   "cell_type": "code",
   "execution_count": 28,
   "metadata": {},
   "outputs": [
    {
     "name": "stderr",
     "output_type": "stream",
     "text": [
      "Warning in <TCanvas::Constructor>: Deleting canvas with same name: c\n"
     ]
    },
    {
     "data": {
      "image/png": "[encoded data removed]",
      "text/plain": [
       "<IPython.core.display.Image object>"
      ]
     },
     "metadata": {},
     "output_type": "display_data"
    }
   ],
   "source": [
    "# Create a canvas\n",
    "c1 = ROOT.TCanvas('c', 'Z boson mass - SF sample', 600, 400)\n",
    "\n",
    "# Create a histogram and draw it\n",
    "h1 = ROOT.TH1F('Results same flavour', ';Z boson mass [GEV]; N_{Events}', 100, 75, 105)\n",
    "for mass_value in mass_sf:\n",
    "        h1.Fill(mass_value)\n",
    "h1.Draw()\n",
    "\n",
    "label = ROOT.TLatex()\n",
    "label.SetNDC(True)\n",
    "label.SetTextSize(0.040)\n",
    "label.DrawLatex(0.10, 0.92, '#bf{CMS preliminary}')\n",
    "# show interactively\n",
    "c1.Draw()"
   ]
  },
  {
   "cell_type": "markdown",
   "metadata": {},
   "source": [
    "### 2.2.2 Fit the histogram"
   ]
  },
  {
   "cell_type": "markdown",
   "metadata": {},
   "source": [
    "What does this peak represents?\n",
    "Fit the distribution with a proper fit function.\n",
    "\n",
    "NB: show the accordance between data and model using statistical methods (chi-square for example)"
   ]
  },
  {
   "cell_type": "markdown",
   "metadata": {},
   "source": [
    "### 2.2.3 Sample H in tau tau"
   ]
  },
  {
   "cell_type": "markdown",
   "metadata": {},
   "source": [
    "Higgs reconstruction"
   ]
  },
  {
   "cell_type": "markdown",
   "metadata": {},
   "source": [
    "### 2.2.4 Transverse Mass Plot --> deleting"
   ]
  },
  {
   "cell_type": "markdown",
   "metadata": {},
   "source": [
    "When searching for signal processes with multiple undetected particles in the final state, the missing momentum is the most important quantity needed to separate the signal from the background. \n",
    "The central idea is to consider both the magnitude and direction of the missing momentum and, in particular, to not inadvertently lose information."
   ]
  },
  {
   "cell_type": "code",
   "execution_count": null,
   "metadata": {},
   "outputs": [],
   "source": [
    "import uproot\n",
    "\n",
    "file  = uproot.open(\"/home/llr/cms/mchiusi/TREX-PHY584/plots_paper_2018_complete_htt.root\")\n",
    "branches  = ['pt_1l','eta_1l','pt_2l','eta_2l','dphill','PuppiMET_pt','PuppiMET_phi']\n",
    "\n",
    "df_list = []\n",
    "for name_tree in file.keys(filter_name = \"*sr*htt*\"):\n",
    "    print(\"Opening TTree: \" + name_tree)\n",
    "    tree_sf   = file[name_tree] # tree definition\n",
    "    temp_df   = tree_sf.arrays(library='pd') # dataframe (df) definition\n",
    "    df_list.append(temp_df) # list of dataframes \n",
    "\n",
    "htt_df = pd.DataFrame()    \n",
    "htt_df = pd.concat(df_list, ignore_index=True) # merged dataframe"
   ]
  },
  {
   "cell_type": "code",
   "execution_count": null,
   "metadata": {},
   "outputs": [],
   "source": [
    "import ROOT.Math as math\n",
    "\n",
    "mass_t = []\n",
    "\n",
    "for event_number in dycr_sf.index:\n",
    "    event = htt_df.loc[event_number]\n",
    "    vect_ll  = math.Polar2DVector(event.ptll, event.dphill)\n",
    "    vect_met = math.Polar2DVector(event.PuppiMET_pt, event.PuppiMET_phi)\n",
    "    \n",
    "    mWW = np.sqrt(np.power(event.ptll+event.PuppiMET_pt,2)-((vect_ll+vect_met).Mag2()))\n",
    "    mass_t.append(mWW)"
   ]
  },
  {
   "cell_type": "code",
   "execution_count": null,
   "metadata": {},
   "outputs": [],
   "source": [
    "# Create a canvas\n",
    "c2 = ROOT.TCanvas('c', 'Z boson mass - SF sample', 600, 400)\n",
    "\n",
    "# Create a histogram and draw it\n",
    "h2 = ROOT.TH1F('Results', ';Z boson mass [GEV]; N_{Events}', 50, 0, 300)\n",
    "for mass_value in mass_t:\n",
    "        h2.Fill(mass_value)\n",
    "h2.Draw()\n",
    "\n",
    "label = ROOT.TLatex()\n",
    "label.SetNDC(True)\n",
    "label.SetTextSize(0.040)\n",
    "label.DrawLatex(0.10, 0.92, '#bf{CMS preliminary}')\n",
    "# show interactively\n",
    "c2.Draw()"
   ]
  }
 ],
 "metadata": {
  "kernelspec": {
   "display_name": "testenv",
   "language": "python",
   "name": "testenv"
  },
  "language_info": {
   "codemirror_mode": {
    "name": "ipython",
    "version": 3
   },
   "file_extension": ".py",
   "mimetype": "text/x-python",
   "name": "python",
   "nbconvert_exporter": "python",
   "pygments_lexer": "ipython3",
   "version": "3.8.13"
  }
 },
 "nbformat": 4,
 "nbformat_minor": 2
}
